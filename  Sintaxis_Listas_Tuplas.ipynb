{
 "cells": [
  {
   "cell_type": "markdown",
   "metadata": {},
   "source": [
    "#### Todos los programas estan siempre activos para salir de cualquier programa digitar el numero 0"
   ]
  },
  {
   "cell_type": "markdown",
   "metadata": {},
   "source": [
    "### Juan Romero "
   ]
  },
  {
   "cell_type": "markdown",
   "metadata": {},
   "source": [
    "# PARTE  1 - Programacion y Sintaxis "
   ]
  },
  {
   "cell_type": "markdown",
   "metadata": {},
   "source": [
    "## Ejercicio 1"
   ]
  },
  {
   "cell_type": "markdown",
   "metadata": {},
   "source": [
    "### Conversor de segundo a horas minutos y seguntos"
   ]
  },
  {
   "cell_type": "code",
   "execution_count": 81,
   "metadata": {},
   "outputs": [
    {
     "name": "stdout",
     "output_type": "stream",
     "text": [
      "==================================================================\n",
      "Por favor ingrese la cantidad de segundos que desea convertir, si desea salir del programa digite el numero 0\n",
      "2400\n",
      "Horas:  0 , Minutos:  40 , Segundos:  0\n",
      "==================================================================\n",
      "Por favor ingrese la cantidad de segundos que desea convertir, si desea salir del programa digite el numero 0\n",
      "3600\n",
      "Horas:  1 , Minutos:  0 , Segundos:  0\n",
      "==================================================================\n",
      "Por favor ingrese la cantidad de segundos que desea convertir, si desea salir del programa digite el numero 0\n",
      "0\n",
      "Gracias por usar el programa!\n"
     ]
    }
   ],
   "source": [
    "exist = True\n",
    "while exist:\n",
    "    print(\"==================================================================\")\n",
    "    print(\"Por favor ingrese la cantidad de segundos que desea convertir, si desea salir del programa digite el numero 0\")\n",
    "    try:\n",
    "        seg_entrada = int(input())\n",
    "        if seg_entrada == 0:\n",
    "            exist = False\n",
    "        else:\n",
    "            horas = int(seg_entrada / 60 / 60)\n",
    "            minutos = int((seg_entrada - (horas * 60 * 60)) / 60)\n",
    "            segundos = (seg_entrada - (horas * 60 * 60) - (minutos * 60))\n",
    "            print(\"Horas: \", horas , \", Minutos: \" , minutos, \", Segundos: \", segundos)\n",
    "    except ValueError: \n",
    "        print('Por favor ingrese un numero entero')\n",
    "print(\"Gracias por usar el programa!\")\n",
    "        \n",
    "\n",
    "\n"
   ]
  },
  {
   "cell_type": "markdown",
   "metadata": {},
   "source": [
    "## Ejercicio 2"
   ]
  },
  {
   "cell_type": "markdown",
   "metadata": {},
   "source": [
    "### Patrones de triangulos"
   ]
  },
  {
   "cell_type": "code",
   "execution_count": 84,
   "metadata": {},
   "outputs": [
    {
     "name": "stdout",
     "output_type": "stream",
     "text": [
      "==================================================================\n",
      "Digite la cantidad de niveles entre 1 y 20, para salir digite un numero fuera del rango\n",
      "10\n",
      "Digite el caracter a pintar\n",
      "AA\n",
      "Error digite un solo caracter\n",
      "==================================================================\n",
      "Digite la cantidad de niveles entre 1 y 20, para salir digite un numero fuera del rango\n",
      "15\n",
      "Digite el caracter a pintar\n",
      "A\n",
      "=======TRIANGULO 1=======\n",
      "A\n",
      "AA\n",
      "AAA\n",
      "AAAA\n",
      "AAAAA\n",
      "AAAAAA\n",
      "AAAAAAA\n",
      "AAAAAAAA\n",
      "AAAAAAAAA\n",
      "AAAAAAAAAA\n",
      "AAAAAAAAAAA\n",
      "AAAAAAAAAAAA\n",
      "AAAAAAAAAAAAA\n",
      "AAAAAAAAAAAAAA\n",
      "AAAAAAAAAAAAAAA\n",
      "=======TRIANGULO 2=======\n",
      "AAAAAAAAAAAAAAA\n",
      "AAAAAAAAAAAAAA\n",
      "AAAAAAAAAAAAA\n",
      "AAAAAAAAAAAA\n",
      "AAAAAAAAAAA\n",
      "AAAAAAAAAA\n",
      "AAAAAAAAA\n",
      "AAAAAAAA\n",
      "AAAAAAA\n",
      "AAAAAA\n",
      "AAAAA\n",
      "AAAA\n",
      "AAA\n",
      "AA\n",
      "A\n",
      "=======TRIANGULO 3=======\n",
      " A A A A A A A A A A A A A A A\n",
      "  A A A A A A A A A A A A A A\n",
      "   A A A A A A A A A A A A A\n",
      "    A A A A A A A A A A A A\n",
      "     A A A A A A A A A A A\n",
      "      A A A A A A A A A A\n",
      "       A A A A A A A A A\n",
      "        A A A A A A A A\n",
      "         A A A A A A A\n",
      "          A A A A A A\n",
      "           A A A A A\n",
      "            A A A A\n",
      "             A A A\n",
      "              A A\n",
      "               A\n",
      "=======TRIANGULO 4=======\n",
      "               A\n",
      "              A A\n",
      "             A A A\n",
      "            A A A A\n",
      "           A A A A A\n",
      "          A A A A A A\n",
      "         A A A A A A A\n",
      "        A A A A A A A A\n",
      "       A A A A A A A A A\n",
      "      A A A A A A A A A A\n",
      "     A A A A A A A A A A A\n",
      "    A A A A A A A A A A A A\n",
      "   A A A A A A A A A A A A A\n",
      "  A A A A A A A A A A A A A A\n",
      " A A A A A A A A A A A A A A A\n",
      "==================================================================\n",
      "Digite la cantidad de niveles entre 1 y 20, para salir digite un numero fuera del rango\n",
      "0\n",
      "Gracias por usar el programa!\n"
     ]
    }
   ],
   "source": [
    "def pintar_triangulo_tipo_uno(cantidad_niveles, caracter):\n",
    "    lista = list()\n",
    "    for i in range(1, cantidad_niveles + 1):\n",
    "        linea = \"\"\n",
    "        for j in range(i):\n",
    "            linea = linea + caracter\n",
    "        print(linea)\n",
    "            \n",
    "def pintar_triangulo_tipo_dos(cantidad_niveles, caracter):\n",
    "    lista = list()\n",
    "    for i in range(cantidad_niveles, 0, -1):\n",
    "        linea = \"\"\n",
    "        for j in range(i):\n",
    "            linea = linea + caracter\n",
    "        print(linea)\n",
    "        \n",
    "\n",
    "def pintar_triangulo_tipo_tres(cantidad_niveles, caracter):\n",
    "    lista = list()\n",
    "    index = 0\n",
    "    for i in range(cantidad_niveles, 0, -1):\n",
    "        linea = \"\"\n",
    "        for k in range(index):\n",
    "            linea = linea + \" \" \n",
    "        for j in range(i):\n",
    "            linea = linea + \" \" + caracter\n",
    "        index = index + 1\n",
    "        print(linea)\n",
    "        \n",
    "def pintar_triangulo_tipo_cuatro(cantidad_niveles, caracter):\n",
    "    lista = list()\n",
    "    index = cantidad_niveles\n",
    "    for i in range(1, cantidad_niveles + 1):\n",
    "        linea = \"\"\n",
    "        inea = \"\"\n",
    "        for k in range(cantidad_niveles - 1):\n",
    "            linea = linea + \" \" \n",
    "        for j in range(i):\n",
    "            linea = linea + \" \" + caracter\n",
    "        cantidad_niveles = cantidad_niveles - 1\n",
    "        print(linea)\n",
    "\n",
    "exist = True\n",
    "while exist: \n",
    "    \n",
    "    try:\n",
    "        print(\"==================================================================\")\n",
    "        print(\"Digite la cantidad de niveles entre 1 y 20, para salir digite un numero fuera del rango\")\n",
    "        niveles = int(input())\n",
    "        if niveles > 0 and niveles < 21:\n",
    "            print(\"Digite el caracter a pintar\")\n",
    "            caracter = input()\n",
    "            if len(caracter) > 1:\n",
    "                print(\"Error digite un solo caracter\")\n",
    "            else:\n",
    "                print(\"=======TRIANGULO 1=======\")\n",
    "                pintar_triangulo_tipo_uno(niveles, caracter)\n",
    "                print(\"=======TRIANGULO 2=======\")\n",
    "                pintar_triangulo_tipo_dos(niveles, caracter)\n",
    "                print(\"=======TRIANGULO 3=======\")\n",
    "                pintar_triangulo_tipo_tres(niveles, caracter)\n",
    "                print(\"=======TRIANGULO 4=======\")\n",
    "                pintar_triangulo_tipo_cuatro(niveles, caracter)\n",
    "        else:\n",
    "            exist = False    \n",
    "    except ValueError: \n",
    "        print('Por favor ingrese un numero entero')\n",
    "print(\"Gracias por usar el programa!\")     \n",
    "    "
   ]
  },
  {
   "cell_type": "markdown",
   "metadata": {},
   "source": [
    "## Ejercicio 3"
   ]
  },
  {
   "cell_type": "markdown",
   "metadata": {},
   "source": [
    "### Calculo de edad"
   ]
  },
  {
   "cell_type": "code",
   "execution_count": 86,
   "metadata": {},
   "outputs": [
    {
     "name": "stdout",
     "output_type": "stream",
     "text": [
      "==================================================================\n",
      "Digite su dia de nacimiento, para salir digite 0\n",
      "33\n",
      "Dia invalido, Digite un dia menor que 32\n",
      "==================================================================\n",
      "Digite su dia de nacimiento, para salir digite 0\n",
      "23\n",
      "Digite su mes de nacimiento\n",
      "15\n",
      "Mes invalido, Digite un mes entre 1 y 12\n",
      "==================================================================\n",
      "Digite su dia de nacimiento, para salir digite 0\n",
      "23\n",
      "Digite su mes de nacimiento\n",
      "03\n",
      "Digite su anho de nacimiento\n",
      "1989\n",
      "Fecha de nacimiento :  1989 / 3 / 23\n",
      "Fecha actual es  2021 / 3 / 21\n",
      "Su edad es:  31\n",
      "==================================================================\n",
      "Digite su dia de nacimiento, para salir digite 0\n",
      "23\n",
      "Digite su mes de nacimiento\n",
      "08\n",
      "Digite su anho de nacimiento\n",
      "2013\n",
      "Fecha de nacimiento :  2013 / 8 / 23\n",
      "Fecha actual es  2021 / 3 / 21\n",
      "Su edad es:  7\n",
      "==================================================================\n",
      "Digite su dia de nacimiento, para salir digite 0\n",
      "0\n",
      "Gracias por usar el programa!\n"
     ]
    }
   ],
   "source": [
    "import datetime\n",
    "\n",
    "exist = True\n",
    "while exist:\n",
    "    fecha_hoy = datetime.datetime.now()\n",
    "    dia_hoy = fecha_hoy.day\n",
    "    mes_hoy = fecha_hoy.month + 1\n",
    "    anho_hoy = fecha_hoy.year\n",
    "    try:\n",
    "        print(\"==================================================================\")\n",
    "        print(\"Digite su dia de nacimiento, para salir digite 0\")\n",
    "        dia = int(input())\n",
    "        if dia > 0 and dia < 32:\n",
    "            print(\"Digite su mes de nacimiento\")\n",
    "            mes = int(input())\n",
    "            if mes > 0 and mes < 13:\n",
    "                print(\"Digite su anho de nacimiento\")\n",
    "                anho = int(input())\n",
    "                if anho <= anho_hoy:\n",
    "                    edad = anho_hoy - anho\n",
    "                    if  dia_hoy < dia and mes_hoy <= mes :\n",
    "                        edad = edad - 1\n",
    "                    print(\"Fecha de nacimiento : \", anho, \"/\", mes,\"/\", dia)\n",
    "                    print(\"Fecha actual es \",anho_hoy, \"/\", mes_hoy,\"/\", dia_hoy)\n",
    "                    print(\"Su edad es: \", edad)\n",
    "                else:\n",
    "                    print(\"Anho invalido, el anho no puede ser mayor a \", anho_hoy)\n",
    "            else: \n",
    "                print(\"Mes invalido, Digite un mes entre 1 y 12\")\n",
    "        elif dia == 0:\n",
    "            exist = False\n",
    "        else:\n",
    "            print(\"Dia invalido, Digite un dia menor que 32\")\n",
    "            \n",
    "    except ValueError:\n",
    "        print('Error, por favor ingrese un numero entero')\n",
    "print(\"Gracias por usar el programa!\")      \n",
    "    "
   ]
  },
  {
   "cell_type": "markdown",
   "metadata": {},
   "source": [
    "# PARTE 2 - Estructuras de Datos"
   ]
  },
  {
   "cell_type": "markdown",
   "metadata": {},
   "source": [
    "## Ejercicio 2.1"
   ]
  },
  {
   "cell_type": "markdown",
   "metadata": {},
   "source": [
    "###  Tupla de elementos"
   ]
  },
  {
   "cell_type": "code",
   "execution_count": 87,
   "metadata": {},
   "outputs": [
    {
     "name": "stdout",
     "output_type": "stream",
     "text": [
      "==================================================================\n",
      "Seleccione una opcion 1, 2 o 0\n",
      "1 - Para ingresar la tupla como texto en formato '(elemento 1 , elemento 2, elemento n)'\n",
      "2 - Para ingresar la tupla en elementos separados\n",
      "0 - Para salir\n",
      "1\n",
      "Ingrese el texto en formato el siguiente formato '(elemento 1 , elemento 2, elemento n)'\n",
      "(10, 20, 40, 5, 70)\n",
      "El tipo de elemento es  <class 'tuple'>\n",
      "Los datos ingresados en la tupla son  ('10', ' 20', ' 40', ' 5', ' 70')\n",
      "El texto ordenado es:  102040570\n",
      "==================================================================\n",
      "Seleccione una opcion 1, 2 o 0\n",
      "1 - Para ingresar la tupla como texto en formato '(elemento 1 , elemento 2, elemento n)'\n",
      "2 - Para ingresar la tupla en elementos separados\n",
      "0 - Para salir\n",
      "(10, 20, 40, 5, 70\n",
      "Error, por favor ingrese un numero entero\n",
      "==================================================================\n",
      "Seleccione una opcion 1, 2 o 0\n",
      "1 - Para ingresar la tupla como texto en formato '(elemento 1 , elemento 2, elemento n)'\n",
      "2 - Para ingresar la tupla en elementos separados\n",
      "0 - Para salir\n",
      "1\n",
      "Ingrese el texto en formato el siguiente formato '(elemento 1 , elemento 2, elemento n)'\n",
      "(10, 20, 40, 5, 70\n",
      "El tipo de elemento es  <class 'tuple'>\n",
      "Los datos ingresados en la tupla son  ('10', ' 20', ' 40', ' 5', ' 70')\n",
      "El texto ordenado es:  102040570\n",
      "==================================================================\n",
      "Seleccione una opcion 1, 2 o 0\n",
      "1 - Para ingresar la tupla como texto en formato '(elemento 1 , elemento 2, elemento n)'\n",
      "2 - Para ingresar la tupla en elementos separados\n",
      "0 - Para salir\n",
      "10, 20, 40, 5, 70\n",
      "Error, por favor ingrese un numero entero\n",
      "==================================================================\n",
      "Seleccione una opcion 1, 2 o 0\n",
      "1 - Para ingresar la tupla como texto en formato '(elemento 1 , elemento 2, elemento n)'\n",
      "2 - Para ingresar la tupla en elementos separados\n",
      "0 - Para salir\n",
      "1\n",
      "Ingrese el texto en formato el siguiente formato '(elemento 1 , elemento 2, elemento n)'\n",
      "(10, 20, 40, 5, 70, 'JUAN')\n",
      "El tipo de elemento es  <class 'tuple'>\n",
      "Los datos ingresados en la tupla son  ('10', ' 20', ' 40', ' 5', ' 70', \" 'JUAN'\")\n",
      "El texto ordenado es:  102040570'JUAN'\n",
      "==================================================================\n",
      "Seleccione una opcion 1, 2 o 0\n",
      "1 - Para ingresar la tupla como texto en formato '(elemento 1 , elemento 2, elemento n)'\n",
      "2 - Para ingresar la tupla en elementos separados\n",
      "0 - Para salir\n",
      "2\n",
      "Ingrese la cantidad de elementos que desea agregar\n",
      "3\n",
      "Ingrese el valor  1  de la tupla \n",
      "10\n",
      "Ingrese el valor  2  de la tupla \n",
      "15\n",
      "Ingrese el valor  3  de la tupla \n",
      "30\n",
      "El tipo de elemento es  <class 'tuple'>\n",
      "Los datos ingresados en la tupla son  ('10', '15', '30')\n",
      "El texto ordenado es:  101530\n",
      "==================================================================\n",
      "Seleccione una opcion 1, 2 o 0\n",
      "1 - Para ingresar la tupla como texto en formato '(elemento 1 , elemento 2, elemento n)'\n",
      "2 - Para ingresar la tupla en elementos separados\n",
      "0 - Para salir\n",
      "0\n",
      "Gracias por usar el programa!\n"
     ]
    }
   ],
   "source": [
    "\n",
    "exist =  True\n",
    "while exist:\n",
    "    print(\"==================================================================\")\n",
    "    print(\"Seleccione una opcion 1, 2 o 0\")\n",
    "    print(\"1 - Para ingresar la tupla como texto en formato '(elemento 1 , elemento 2, elemento n)'\")\n",
    "    print(\"2 - Para ingresar la tupla en elementos separados\")\n",
    "    print(\"0 - Para salir\")\n",
    "    try:\n",
    "        opcion = int(input())\n",
    "        if opcion == 1:\n",
    "            print(\"Ingrese el texto en formato el siguiente formato '(elemento 1 , elemento 2, elemento n)'\")\n",
    "            texto_tupla = input()\n",
    "            texto_tupla = texto_tupla.replace(\"(\", \"\")            \n",
    "            texto_tupla = texto_tupla.replace(\")\", \"\")        \n",
    "            texto_tupla = texto_tupla.replace('\"', \"\")       \n",
    "            texto_tupla = texto_tupla.replace(\"''\", \"\")\n",
    "            tupla_element = tuple(texto_tupla.split(','))      \n",
    "            texto_ordenado = \"\"\n",
    "            for i in range(0, len(tupla_element)):\n",
    "                texto_ordenado = texto_ordenado + tupla_element[i]\n",
    "            print(\"El tipo de elemento es \", type(tupla_element))\n",
    "            print(\"Los datos ingresados en la tupla son \", tupla_element)\n",
    "            print(\"El texto ordenado es: \", texto_ordenado.replace(\" \", \"\"))            \n",
    "        elif opcion == 2:   \n",
    "            print(\"Ingrese la cantidad de elementos que desea agregar\")\n",
    "            cantidad_datos = int(input())\n",
    "            datos_ingresado = \"\"\n",
    "            if cantidad_datos > 0:\n",
    "                for i in range(0,cantidad_datos):\n",
    "                    print(\"Ingrese el valor \", (i + 1) , \" de la tupla \")\n",
    "                    datos_ingresado = datos_ingresado + \",\"  + input()\n",
    "                tupla_element = tuple(datos_ingresado[1:len(datos_ingresado)].split(','))      \n",
    "                texto_ordenado = \"\"\n",
    "                for i in range(0, len(tupla_element)):\n",
    "                    texto_ordenado = texto_ordenado + tupla_element[i]\n",
    "                print(\"El tipo de elemento es \", type(tupla_element))\n",
    "                print(\"Los datos ingresados en la tupla son \", tupla_element)\n",
    "                print(\"El texto ordenado es: \", texto_ordenado.replace(\" \", \"\"))      \n",
    "            else:\n",
    "                print('Error, por favor ingrese una cantidad mayor que -1')\n",
    "        elif opcion == 0:\n",
    "            exist = False\n",
    "        else:\n",
    "            print(\"Opcion no valida\")\n",
    "    except ValueError:\n",
    "        print('Error, por favor ingrese un numero entero')\n",
    "print(\"Gracias por usar el programa!\")\n"
   ]
  },
  {
   "cell_type": "markdown",
   "metadata": {},
   "source": [
    "## Ejercicio 2.2"
   ]
  },
  {
   "cell_type": "markdown",
   "metadata": {},
   "source": [
    "### Limpiador de lista de tuplas"
   ]
  },
  {
   "cell_type": "code",
   "execution_count": 93,
   "metadata": {},
   "outputs": [
    {
     "name": "stdout",
     "output_type": "stream",
     "text": [
      "==================================================================\n",
      "Ingrese el texto en formato el siguiente formato '[(tupla 1) , (tupla 2)]'  digite 0 si desea salir\n",
      "#[(), (), ('X',), ('a', 'b'), ('a', 'b', 'c'), ('d')]\n",
      "El texto ingresado no cumple con el formato establecido\n",
      "==================================================================\n",
      "Ingrese el texto en formato el siguiente formato '[(tupla 1) , (tupla 2)]'  digite 0 si desea salir\n",
      "0\n",
      "Gracias por usar el programa!\n"
     ]
    }
   ],
   "source": [
    "exist =  True\n",
    "#[(), (), ('X',), ('a', 'b'), ('a', 'b', 'c'), ('d')]\n",
    "while exist:\n",
    "    print(\"==================================================================\")\n",
    "    print(\"Ingrese el texto en formato el siguiente formato '[(tupla 1) , (tupla 2)]'  digite 0 si desea salir\")\n",
    "    texto_list = input()\n",
    "    if texto_list != \"0\":\n",
    "        try:\n",
    "            if texto_list.find(\"[\") != -1 and texto_list.find(\"]\") != -1:\n",
    "                lista = eval(texto_list)\n",
    "                lista_salida = list()\n",
    "                for elemento in lista:\n",
    "                    print \n",
    "                    if len(elemento) > 0:\n",
    "                        lista_salida.append(elemento)\n",
    "                print(\"Lista actualizada \" , lista_salida)\n",
    "            else:\n",
    "                print(\"El texto ingresado no cumple con el formato establecido\")\n",
    "        except ValueError:\n",
    "            print(\"El texto ingresado no cumple con el formato establecido\")\n",
    "        except SyntaxError:\n",
    "            print(\"El texto ingresado no cumple con el formato establecido\")\n",
    "            \n",
    "    else:\n",
    "        exist = False\n",
    "print(\"Gracias por usar el programa!\")   "
   ]
  },
  {
   "cell_type": "markdown",
   "metadata": {},
   "source": [
    "## Ejercicio 2.3"
   ]
  },
  {
   "cell_type": "markdown",
   "metadata": {},
   "source": [
    "### Promedios de tupla de tuplas"
   ]
  },
  {
   "cell_type": "code",
   "execution_count": 92,
   "metadata": {},
   "outputs": [
    {
     "name": "stdout",
     "output_type": "stream",
     "text": [
      "==================================================================\n",
      "Ingrese el texto en formato el siguiente formato '((tupla 1) , (tupla 2))', digite 0 si desea salir\n",
      "3\n",
      "El texto ingresado no cumple con el formato establecido\n",
      "==================================================================\n",
      "Ingrese el texto en formato el siguiente formato '((tupla 1) , (tupla 2))', digite 0 si desea salir\n",
      "()\n",
      "()\n",
      "==================================================================\n",
      "Ingrese el texto en formato el siguiente formato '((tupla 1) , (tupla 2))', digite 0 si desea salir\n",
      "((10, 10, 10, 12), (30, 45, 56, 45), (81, 80, 39, 32))\n",
      "(10.5, 44.0, 58.0)\n",
      "==================================================================\n",
      "Ingrese el texto en formato el siguiente formato '((tupla 1) , (tupla 2))', digite 0 si desea salir\n",
      "((10, 10, 10, 12), (30, 45, 56, 45), (81, 80, 39, 'A'))\n",
      "Hemos encontrado un elemento tipo caracter, lo hemos excluido del calculo el elemento es:  A\n",
      "(10.5, 44.0, 66.66666666666667)\n",
      "==================================================================\n",
      "Ingrese el texto en formato el siguiente formato '((tupla 1) , (tupla 2))', digite 0 si desea salir\n",
      "0\n",
      "Gracias por usar el programa!\n"
     ]
    }
   ],
   "source": [
    "exist =  True\n",
    "#((10, 10, 10, 12), (30, 45, 56, 45), (81, 80, 39, 32))\n",
    "while exist:\n",
    "    print(\"==================================================================\")\n",
    "    print(\"Ingrese el texto en formato el siguiente formato '((tupla 1) , (tupla 2))', digite 0 si desea salir\")  \n",
    "    texto_list = input()\n",
    "    if texto_list != \"0\":\n",
    "        try:\n",
    "            if texto_list.find(\"(\") != -1 and texto_list.find(\")\") != -1:\n",
    "                tuplas = eval(texto_list)\n",
    "                texto_con_promedios = \"\"\n",
    "                for tupla in tuplas:\n",
    "                    total_elementos = 0\n",
    "                    valor_total_elementos = 0\n",
    "                    for i in range(0,len(tupla)):\n",
    "                        try: \n",
    "                            valor = int(tupla[i])\n",
    "                            valor_total_elementos = valor_total_elementos + valor\n",
    "                            total_elementos = total_elementos + 1\n",
    "                        except ValueError:\n",
    "                            print(\"Hemos encontrado un elemento tipo caracter, lo hemos excluido del calculo el elemento es: \", tupla[i] )\n",
    "                    if total_elementos > 0: \n",
    "                        texto_con_promedios =  texto_con_promedios + \",\" + str(valor_total_elementos / total_elementos) \n",
    "                    else:\n",
    "                        texto_con_promedios =  texto_con_promedios + \",\" + str(0.0) \n",
    "\n",
    "                tupla_element = eval(\"(\" + texto_con_promedios[1:len(texto_con_promedios)] + \")\")\n",
    "                print(tupla_element)\n",
    "            else:\n",
    "                print(\"El texto ingresado no cumple con el formato establecido\")\n",
    "        except ValueError:\n",
    "            print(\"El texto ingresado no cumple con el formato establecido\")\n",
    "        except SyntaxError:\n",
    "            print(\"El texto ingresado no cumple con el formato establecido\")\n",
    "            \n",
    "    else:\n",
    "        exist = False\n",
    "print(\"Gracias por usar el programa!\")  "
   ]
  },
  {
   "cell_type": "markdown",
   "metadata": {},
   "source": [
    "# FIN"
   ]
  },
  {
   "cell_type": "code",
   "execution_count": null,
   "metadata": {},
   "outputs": [],
   "source": []
  }
 ],
 "metadata": {
  "kernelspec": {
   "display_name": "Python 3",
   "language": "python",
   "name": "python3"
  },
  "language_info": {
   "codemirror_mode": {
    "name": "ipython",
    "version": 3
   },
   "file_extension": ".py",
   "mimetype": "text/x-python",
   "name": "python",
   "nbconvert_exporter": "python",
   "pygments_lexer": "ipython3",
   "version": "3.8.5"
  }
 },
 "nbformat": 4,
 "nbformat_minor": 4
}
